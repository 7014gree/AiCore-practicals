{
 "cells": [
  {
   "cell_type": "markdown",
   "metadata": {},
   "source": [
    "# Decorators"
   ]
  },
  {
   "cell_type": "markdown",
   "metadata": {},
   "source": [
    "### Start-End Decorator\n",
    "\n",
    "Create a decorator that prints start and end at the start and end of a function call"
   ]
  },
  {
   "cell_type": "code",
   "execution_count": 7,
   "metadata": {},
   "outputs": [
    {
     "name": "stdout",
     "output_type": "stream",
     "text": [
      "Printing before...\n",
      "5\n",
      "Printing after.\n"
     ]
    }
   ],
   "source": [
    "def print_decorator(func):\n",
    "    def wrapper():\n",
    "        print(\"Printing before...\")\n",
    "        func()\n",
    "        print(\"Printing after.\")\n",
    "    return wrapper\n",
    "    \n",
    "\n",
    "@print_decorator\n",
    "def test():\n",
    "    print(5)\n",
    "\n",
    "test()"
   ]
  },
  {
   "cell_type": "markdown",
   "metadata": {},
   "source": [
    "### Timer Decorator\n",
    "\n",
    "Create a decorator to time how long a function takes to run and print the duration"
   ]
  },
  {
   "cell_type": "code",
   "execution_count": 9,
   "metadata": {},
   "outputs": [
    {
     "name": "stdout",
     "output_type": "stream",
     "text": [
      "Time taken: 0.28336548805236816\n"
     ]
    }
   ],
   "source": [
    "import time\n",
    "\n",
    "def timer(func):\n",
    "    def wrapper():\n",
    "        time_0 = time.time()\n",
    "        func()\n",
    "        time_1 = time.time()\n",
    "        print(f\"Time taken: {time_1 - time_0}\")\n",
    "    return wrapper\n",
    "\n",
    "@timer\n",
    "def test2():\n",
    "    for x in range(9999999):\n",
    "        n = 1\n",
    "    return n\n",
    "\n",
    "#my_func = timer(test2)\n",
    "#my_func()\n",
    "test2()"
   ]
  },
  {
   "cell_type": "markdown",
   "metadata": {},
   "source": [
    "### Printing a Word Before and After Every Function Call\n",
    "\n",
    "1. Create a decorator that takes in a word as an argument, and prints this word before running\n",
    "1. Now make it take in a second argument word, which it prints after running the decorated function"
   ]
  },
  {
   "cell_type": "code",
   "execution_count": 20,
   "metadata": {},
   "outputs": [
    {
     "name": "stdout",
     "output_type": "stream",
     "text": [
      "a\n",
      "6\n",
      "b\n"
     ]
    }
   ],
   "source": [
    "def word_decorator(func, word1, word2):\n",
    "    def wrapper():\n",
    "        print(word1)\n",
    "        func()\n",
    "        print(word2)\n",
    "    return wrapper\n",
    "\n",
    "# Can pie syntax be used?\n",
    "def test3():\n",
    "    print(6)\n",
    "\n",
    "my_func = word_decorator(test3, \"a\", \"b\")\n",
    "my_func()"
   ]
  },
  {
   "cell_type": "markdown",
   "metadata": {},
   "source": [
    "### Printing a Chain of Characters Before and After Every Function Call\n",
    "\n",
    "1. Create a decorator that prints ```**********``` before and after calling the function\n",
    "1. Create a decorator that prints ```%%%%%%%%%%``` before and after calling the function\n",
    "\n",
    "1. Chain both decorators, so when calling for a function, it should print this before:\n",
    "- ```**********```\n",
    "- ```%%%%%%%%%%```\n",
    "\n",
    "And this after:\n",
    "\n",
    "- ```%%%%%%%%%%```\n",
    "- ```**********```"
   ]
  },
  {
   "cell_type": "code",
   "execution_count": 22,
   "metadata": {},
   "outputs": [
    {
     "name": "stdout",
     "output_type": "stream",
     "text": [
      "**********\n",
      "6\n",
      "**********\n",
      "%%%%%%%%%%\n",
      "6\n",
      "%%%%%%%%%%\n"
     ]
    }
   ],
   "source": [
    "def asterix_decorator(func):\n",
    "    def wrapper(*args, **kwargs):\n",
    "        print(\"*\" * 10)\n",
    "        func(*args, **kwargs)\n",
    "        print(\"*\" * 10)\n",
    "    return wrapper\n",
    "\n",
    "def percent_decorator(func):\n",
    "    def wrapper(*args, **kwargs):\n",
    "        print(\"%\" * 10)\n",
    "        func(*args, **kwargs)\n",
    "        print(\"%\" * 10)\n",
    "    return wrapper\n",
    "\n",
    "asterix_func = asterix_decorator(test3)\n",
    "percent_func =  percent_decorator(test3)\n",
    "\n",
    "asterix_func()\n",
    "percent_func()"
   ]
  },
  {
   "cell_type": "code",
   "execution_count": 29,
   "metadata": {},
   "outputs": [
    {
     "name": "stdout",
     "output_type": "stream",
     "text": [
      "**********\n",
      "%%%%%%%%%%\n",
      "6\n",
      "%%%%%%%%%%\n",
      "**********\n"
     ]
    }
   ],
   "source": [
    "both_chained = asterix_decorator(percent_decorator(test3))\n",
    "both_chained()"
   ]
  },
  {
   "cell_type": "markdown",
   "metadata": {},
   "source": [
    "### Decorator to Save Function Output with Context\n",
    "\n",
    "Create a decorator that saves the string output from a simple function to a file using a context manager"
   ]
  },
  {
   "cell_type": "code",
   "execution_count": 36,
   "metadata": {},
   "outputs": [],
   "source": [
    "# Is this possible with pie syntax?\n",
    "\n",
    "def output(func, path):\n",
    "    def wrapper(*args, **kwargs):\n",
    "        with open(path, 'w') as opened_file:\n",
    "            opened_file.write(func())\n",
    "    return wrapper\n",
    "\n",
    "\n",
    "def test4():\n",
    "    return str(1234567890)\n",
    "\n",
    "my_func = output(test4, 'output.txt')\n",
    "my_func()"
   ]
  },
  {
   "cell_type": "markdown",
   "metadata": {},
   "source": [
    "### Unpacking and Decorating the Job\n",
    "\n",
    "1. Create a function which takes in 3 arguments: job_title, start_date, finish_date\n",
    "1. Create a list with these 3 arguments in order and call the function by UNPACKING the list into it as arguments\n",
    "1. Create a dictionary with these 3 arguments in and call the function by UNPACKING the dictionary into it as arguments\n",
    "1. Create a decorator called with_job_title which always passes in some fixed job title to the function above\n",
    "1. Wrap the function in using the decorator and call it, passing in the arguments excluding job_title"
   ]
  },
  {
   "cell_type": "code",
   "execution_count": 37,
   "metadata": {},
   "outputs": [
    {
     "data": {
      "text/plain": [
       "('joba', 'startb', 'finishc')"
      ]
     },
     "execution_count": 37,
     "metadata": {},
     "output_type": "execute_result"
    }
   ],
   "source": [
    "def job_function(job_title, start_date, finish_date):\n",
    "    return job_title + \"a\", start_date + \"b\", finish_date + \"c\"\n",
    "\n",
    "list = [\"job\", \"start\", \"finish\"]\n",
    "\n",
    "job_function(*list)"
   ]
  },
  {
   "cell_type": "code",
   "execution_count": 38,
   "metadata": {},
   "outputs": [
    {
     "data": {
      "text/plain": [
       "('titlea', 'date1b', 'date2c')"
      ]
     },
     "execution_count": 38,
     "metadata": {},
     "output_type": "execute_result"
    }
   ],
   "source": [
    "dictionary = {\"job_title\": \"title\", \"start_date\": \"date1\", \"finish_date\": \"date2\"}\n",
    "\n",
    "job_function(**dictionary)"
   ]
  },
  {
   "cell_type": "code",
   "execution_count": 47,
   "metadata": {},
   "outputs": [
    {
     "name": "stdout",
     "output_type": "stream",
     "text": [
      "('Default titlea', 'startb', 'finishc')\n"
     ]
    }
   ],
   "source": [
    "def job_decorator(func):\n",
    "    def wrapper(*args, **kwargs):\n",
    "        output = func(\"Default title\", *args, **kwargs)\n",
    "        return output\n",
    "    return wrapper\n",
    "\n",
    "my_func = job_decorator(job_function)\n",
    "print(my_func(*list[1:]))"
   ]
  }
 ],
 "metadata": {
  "kernelspec": {
   "display_name": "Python 3.9.5 64-bit",
   "language": "python",
   "name": "python3"
  },
  "language_info": {
   "codemirror_mode": {
    "name": "ipython",
    "version": 3
   },
   "file_extension": ".py",
   "mimetype": "text/x-python",
   "name": "python",
   "nbconvert_exporter": "python",
   "pygments_lexer": "ipython3",
   "version": "3.9.5"
  },
  "orig_nbformat": 4,
  "vscode": {
   "interpreter": {
    "hash": "81794d4967e6c3204c66dcd87b604927b115b27c00565d3d43f05ba2f3a2cb0d"
   }
  }
 },
 "nbformat": 4,
 "nbformat_minor": 2
}
