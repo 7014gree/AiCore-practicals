{
 "cells": [
  {
   "cell_type": "markdown",
   "metadata": {},
   "source": [
    "# Generators"
   ]
  },
  {
   "cell_type": "markdown",
   "metadata": {},
   "source": [
    "### Generator that Cycles Through a List\n",
    "\n",
    "Create a generator that infinitely cycles through a list of items in order"
   ]
  },
  {
   "cell_type": "code",
   "execution_count": 17,
   "metadata": {},
   "outputs": [],
   "source": [
    "def gen1(l):\n",
    "    while True:\n",
    "        for _ in l:\n",
    "            yield _\n",
    "\n",
    "list1 = [1, 2, 5, 6]\n",
    "\n",
    "h = gen1([1, 2, 5, 6])\n",
    "\n",
    "gen1b = (_ for _ in list(map(lambda x: x * 2, list1)))"
   ]
  },
  {
   "cell_type": "code",
   "execution_count": 21,
   "metadata": {},
   "outputs": [
    {
     "name": "stdout",
     "output_type": "stream",
     "text": [
      "6 12\n"
     ]
    }
   ],
   "source": [
    "print(next(h), next(gen1b))"
   ]
  },
  {
   "cell_type": "markdown",
   "metadata": {},
   "source": [
    "### Random Number Generator\n",
    "\n",
    "Create a generator that yields random numbers"
   ]
  },
  {
   "cell_type": "code",
   "execution_count": 28,
   "metadata": {},
   "outputs": [],
   "source": [
    "import random\n",
    "\n",
    "def gen2():\n",
    "    while True:\n",
    "        yield random.randint(1, 100)\n",
    "\n",
    "h2 = gen2()\n",
    "\n",
    "# not possible? as can't define an infinite iterable in one line?\n",
    "# gen2b = (random.randint(1,100))"
   ]
  },
  {
   "cell_type": "code",
   "execution_count": 31,
   "metadata": {},
   "outputs": [
    {
     "data": {
      "text/plain": [
       "36"
      ]
     },
     "execution_count": 31,
     "metadata": {},
     "output_type": "execute_result"
    }
   ],
   "source": [
    "next(h2)"
   ]
  },
  {
   "cell_type": "markdown",
   "metadata": {},
   "source": [
    "### Multiples of Three\n",
    "\n",
    "Create a generator that takes in two numbers and yields all multiples of 3 between the two of them"
   ]
  },
  {
   "cell_type": "code",
   "execution_count": 36,
   "metadata": {},
   "outputs": [
    {
     "name": "stdout",
     "output_type": "stream",
     "text": [
      "[3, 6, 9, 12] [6, 9]\n"
     ]
    }
   ],
   "source": [
    "def gen3(a, b):\n",
    "    n = a\n",
    "    while n <= b:\n",
    "        if n % 3 == 0:\n",
    "            yield n\n",
    "        n += 1\n",
    "\n",
    "# Exclusive between\n",
    "def gen3b(a, b):\n",
    "    n = a + 1\n",
    "    while n < b:\n",
    "        if n % 3 == 0:\n",
    "            yield n\n",
    "        n += 1\n",
    "\n",
    "\n",
    "h3 = gen3(3, 12)\n",
    "h3b = gen3b(3, 12)\n",
    "\n",
    "print(list(h3), list(h3b))"
   ]
  },
  {
   "cell_type": "markdown",
   "metadata": {},
   "source": [
    "### Generator that Squares Numbers\n",
    "\n",
    "Create a generator that yields the square of every number up to 100, if that number is even or is a multiple of 3\n",
    "\n",
    "Turn the above generator into a generator comprehension"
   ]
  },
  {
   "cell_type": "code",
   "execution_count": 49,
   "metadata": {},
   "outputs": [],
   "source": [
    "def gen4():\n",
    "    n = 1\n",
    "    while n <= 100:\n",
    "        if n % 2 == 0 or n % 3 == 0:\n",
    "            yield n ** 2\n",
    "        n += 1\n",
    "\n",
    "h4 = gen4()\n",
    "\n",
    "gen4b = (x**2 for x in filter(lambda y: y % 2 == 0 or y % 3 == 0, range(1,101)))\n",
    "gen4c = (x**2 for x in range(1,101) if x % 2 == 0 or x % 3 == 0)"
   ]
  },
  {
   "cell_type": "code",
   "execution_count": 42,
   "metadata": {},
   "outputs": [
    {
     "name": "stdout",
     "output_type": "stream",
     "text": [
      "4\n"
     ]
    }
   ],
   "source": [
    "print(next(h4))"
   ]
  },
  {
   "cell_type": "code",
   "execution_count": 56,
   "metadata": {},
   "outputs": [
    {
     "name": "stdout",
     "output_type": "stream",
     "text": [
      "4\n"
     ]
    }
   ],
   "source": [
    "print(next(gen4b))"
   ]
  },
  {
   "cell_type": "code",
   "execution_count": 55,
   "metadata": {},
   "outputs": [
    {
     "name": "stdout",
     "output_type": "stream",
     "text": [
      "81\n"
     ]
    }
   ],
   "source": [
    "print(next(gen4c))"
   ]
  },
  {
   "cell_type": "markdown",
   "metadata": {},
   "source": [
    "### Yes/No\n",
    "\n",
    "Using 2 yield statements, create a generator which alternatively yields yes and no"
   ]
  },
  {
   "cell_type": "code",
   "execution_count": 57,
   "metadata": {},
   "outputs": [],
   "source": [
    "def gen5():\n",
    "    while True:\n",
    "        _ = 'yes'\n",
    "        yield _\n",
    "        _ = 'no'\n",
    "        yield _\n",
    "\n",
    "h5 = gen5()"
   ]
  },
  {
   "cell_type": "code",
   "execution_count": 65,
   "metadata": {},
   "outputs": [
    {
     "data": {
      "text/plain": [
       "'no'"
      ]
     },
     "execution_count": 65,
     "metadata": {},
     "output_type": "execute_result"
    }
   ],
   "source": [
    "next(h5)"
   ]
  },
  {
   "cell_type": "markdown",
   "metadata": {},
   "source": [
    "### Byte Generator\n",
    "\n",
    "Create a loop which iterates through a generator you define that generates incrementing binary bytes (8 digit numbers containing only ones and zeros) up to 256"
   ]
  },
  {
   "cell_type": "code",
   "execution_count": 67,
   "metadata": {},
   "outputs": [],
   "source": [
    "# Unclear if there taks is to generate a string for the bytes... tried for a while but can't come up with anything non-convoluted so just using bin\n",
    "def gen6():\n",
    "    n = 0\n",
    "    while n <= 256:\n",
    "        yield bin(n)\n",
    "        n += 1\n",
    "\n",
    "h6 = gen6()"
   ]
  },
  {
   "cell_type": "code",
   "execution_count": 77,
   "metadata": {},
   "outputs": [
    {
     "data": {
      "text/plain": [
       "'0b1001'"
      ]
     },
     "execution_count": 77,
     "metadata": {},
     "output_type": "execute_result"
    }
   ],
   "source": [
    "next(h6)"
   ]
  },
  {
   "cell_type": "code",
   "execution_count": 87,
   "metadata": {},
   "outputs": [],
   "source": [
    "# Again, unsure about the task - inifinite generator comprehsion looks impossible without importing other packages which hide the fact that multiple lines are being used to create the generator?\n",
    "def gen7():\n",
    "    while True:\n",
    "        yield random.choice([0,1])\n",
    "\n",
    "h7 = gen7()"
   ]
  },
  {
   "cell_type": "code",
   "execution_count": 91,
   "metadata": {},
   "outputs": [
    {
     "data": {
      "text/plain": [
       "1"
      ]
     },
     "execution_count": 91,
     "metadata": {},
     "output_type": "execute_result"
    }
   ],
   "source": [
    "next(h7)"
   ]
  },
  {
   "cell_type": "markdown",
   "metadata": {},
   "source": [
    "### Password Generator\n",
    "\n",
    "Create a generator that takes in an integer as an input and returns random passwords with a length equal to the passed integer.\n",
    "\n",
    "To make the password more robust, the characters should include uppercase letters, numbers and special characters."
   ]
  },
  {
   "cell_type": "code",
   "execution_count": 129,
   "metadata": {},
   "outputs": [],
   "source": [
    "import string\n",
    "\n",
    "# Unclear if the requirement is that generated passwords HAVE TO contain uppercase, lowercase, numbers, special characters within the same password\n",
    "# Would mean password has to be 4 characters or longer\n",
    "# Could add a check that the password fits the requirement, if not the function will generator another password until successful before yielding\n",
    "# Otherwise could make it so the first character is truly randomly, 2nd has to be a different type to the first one, 3rd has to be different to the first 2, 4th different to the first 3, the remainder truly random\n",
    "# Seems like the above would make the password more predictable if anything as it reduces possible strings for the first 4 characters\n",
    "def gen8(x: int):\n",
    "    while True:\n",
    "        password = ''.join(random.choice(string.ascii_letters + \"!?\\\"£$%^&*()-_+';:><,.~#?/|`\") for x in range(x))\n",
    "        yield password"
   ]
  },
  {
   "cell_type": "code",
   "execution_count": 102,
   "metadata": {},
   "outputs": [
    {
     "name": "stdout",
     "output_type": "stream",
     "text": [
      "abcdefghijklmnopqrstuvwxyzABCDEFGHIJKLMNOPQRSTUVWXYZ!?\"£$%^&*()-_+';:><,.~#?/|`\n"
     ]
    }
   ],
   "source": [
    "print(string.ascii_letters + \"!?\\\"£$%^&*()-_+';:><,.~#?/|`\")"
   ]
  },
  {
   "cell_type": "code",
   "execution_count": 130,
   "metadata": {},
   "outputs": [],
   "source": [
    "h8 = gen8(5)"
   ]
  },
  {
   "cell_type": "code",
   "execution_count": 131,
   "metadata": {},
   "outputs": [
    {
     "data": {
      "text/plain": [
       "')/a+C'"
      ]
     },
     "execution_count": 131,
     "metadata": {},
     "output_type": "execute_result"
    }
   ],
   "source": [
    "next(h8)"
   ]
  }
 ],
 "metadata": {
  "kernelspec": {
   "display_name": "Python 3.9.5 64-bit",
   "language": "python",
   "name": "python3"
  },
  "language_info": {
   "codemirror_mode": {
    "name": "ipython",
    "version": 3
   },
   "file_extension": ".py",
   "mimetype": "text/x-python",
   "name": "python",
   "nbconvert_exporter": "python",
   "pygments_lexer": "ipython3",
   "version": "3.9.5"
  },
  "orig_nbformat": 4,
  "vscode": {
   "interpreter": {
    "hash": "81794d4967e6c3204c66dcd87b604927b115b27c00565d3d43f05ba2f3a2cb0d"
   }
  }
 },
 "nbformat": 4,
 "nbformat_minor": 2
}
