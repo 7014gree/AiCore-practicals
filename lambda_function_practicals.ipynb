{
 "cells": [
  {
   "cell_type": "markdown",
   "metadata": {},
   "source": [
    "## Comprehensions"
   ]
  },
  {
   "cell_type": "markdown",
   "metadata": {},
   "source": [
    "Use a list comprehension to capitalise every element in the list ```['Hello', 'world']```."
   ]
  },
  {
   "cell_type": "code",
   "execution_count": 3,
   "metadata": {},
   "outputs": [
    {
     "name": "stdout",
     "output_type": "stream",
     "text": [
      "['HELLO', 'WORLD']\n"
     ]
    }
   ],
   "source": [
    "l = ['Hello', 'world']\n",
    "for x in range(len(l)):\n",
    "    caps = ''\n",
    "    for _ in l[x]:\n",
    "        caps += _.upper()\n",
    "    l[x] = caps\n",
    "print(l)"
   ]
  },
  {
   "cell_type": "markdown",
   "metadata": {},
   "source": [
    "Use a list comprehension to fiflter out every multiple of 5 from a range of numbers up to 100."
   ]
  },
  {
   "cell_type": "code",
   "execution_count": null,
   "metadata": {},
   "outputs": [],
   "source": [
    "for _ in range(1, 101):\n",
    "    if _ % 5 != 0:\n",
    "        print(_)"
   ]
  },
  {
   "cell_type": "markdown",
   "metadata": {},
   "source": [
    "Use a dictionary comprehension to create a map between every integer up to 15 and it's value squared."
   ]
  },
  {
   "cell_type": "code",
   "execution_count": 13,
   "metadata": {},
   "outputs": [
    {
     "name": "stdout",
     "output_type": "stream",
     "text": [
      "{1: 1, 2: 4, 3: 9, 4: 16, 5: 25, 6: 36, 7: 49, 8: 64, 9: 81, 10: 100, 11: 121, 12: 144, 13: 169, 14: 196, 15: 225}\n"
     ]
    }
   ],
   "source": [
    "squares = {_:_**2 for _ in range(1,16)}\n",
    "print(squares)"
   ]
  },
  {
   "cell_type": "markdown",
   "metadata": {},
   "source": [
    "Use a dictionary comprehension to create a dictionary that does the inverse of above."
   ]
  },
  {
   "cell_type": "code",
   "execution_count": 23,
   "metadata": {},
   "outputs": [
    {
     "name": "stdout",
     "output_type": "stream",
     "text": [
      "{1: 1, 4: 2, 9: 3, 16: 4, 25: 5, 36: 6, 49: 7, 64: 8, 81: 9, 100: 10, 121: 11, 144: 12, 169: 13, 196: 14, 225: 15}\n"
     ]
    }
   ],
   "source": [
    "sqrt = {_:int(_**0.5) for _ in squares.values()}\n",
    "print(sqrt)"
   ]
  },
  {
   "cell_type": "markdown",
   "metadata": {},
   "source": [
    "Create a list of dictionaries, each with a key called name, then use a list comprehension to map that list to the names themselves by indexing the dictionaries."
   ]
  },
  {
   "cell_type": "code",
   "execution_count": 32,
   "metadata": {},
   "outputs": [
    {
     "name": "stdout",
     "output_type": "stream",
     "text": [
      "[0, 1, 2, 3, 4]\n"
     ]
    }
   ],
   "source": [
    "l = []\n",
    "for _ in range(5):\n",
    "    l.append({\"name\": _})\n",
    "\n",
    "l2 = []\n",
    "for _ in l:\n",
    "    l2.append(_[\"name\"])\n",
    "print(l2)\n"
   ]
  },
  {
   "cell_type": "markdown",
   "metadata": {},
   "source": [
    "Use the ```os``` module to create a nested list comprehension to list every file in the ```my_lib``` directory."
   ]
  },
  {
   "cell_type": "code",
   "execution_count": 39,
   "metadata": {},
   "outputs": [
    {
     "name": "stdout",
     "output_type": "stream",
     "text": [
      "computer-vision-rock-paper-scissors\n",
      "hangman\n",
      "lambda_function_practicals.ipynb\n",
      "utils\n"
     ]
    }
   ],
   "source": [
    "import os\n",
    "\n",
    "for _ in os.listdir():\n",
    "    print(_)\n"
   ]
  },
  {
   "cell_type": "markdown",
   "metadata": {},
   "source": [
    "## Byte Generator"
   ]
  },
  {
   "cell_type": "markdown",
   "metadata": {},
   "source": [
    "Create a loop which iterates through a generator you define that generates incrementing binary bytes (8 digit numbers containing only ones and zeros) up to 256."
   ]
  },
  {
   "cell_type": "code",
   "execution_count": 43,
   "metadata": {},
   "outputs": [],
   "source": [
    "def bin_gen():\n",
    "    n = 0\n",
    "    while n < 256:\n",
    "        n += 1\n",
    "        yield bin(n)\n",
    "\n",
    "gen = bin_gen()"
   ]
  },
  {
   "cell_type": "code",
   "execution_count": 47,
   "metadata": {},
   "outputs": [
    {
     "data": {
      "text/plain": [
       "'0b100'"
      ]
     },
     "execution_count": 47,
     "metadata": {},
     "output_type": "execute_result"
    }
   ],
   "source": [
    "next(gen)"
   ]
  },
  {
   "cell_type": "code",
   "execution_count": 49,
   "metadata": {},
   "outputs": [],
   "source": [
    "bin_gen_2 = (bin(n + 1) for n in range(256))"
   ]
  },
  {
   "cell_type": "code",
   "execution_count": 54,
   "metadata": {},
   "outputs": [
    {
     "data": {
      "text/plain": [
       "'0b101'"
      ]
     },
     "execution_count": 54,
     "metadata": {},
     "output_type": "execute_result"
    }
   ],
   "source": [
    "next(bin_gen_2)"
   ]
  },
  {
   "cell_type": "markdown",
   "metadata": {},
   "source": [
    "## Unpacking and decorating the job"
   ]
  },
  {
   "cell_type": "markdown",
   "metadata": {},
   "source": [
    "Create a function which takes 3 arguments: ```job_title```, ```start_date```, ```finish_date```"
   ]
  },
  {
   "cell_type": "code",
   "execution_count": 62,
   "metadata": {},
   "outputs": [],
   "source": [
    "@title_decorator\n",
    "def my_func(job_title, start_date, finish_date):\n",
    "    print(job_title, start_date, finish_date)"
   ]
  },
  {
   "cell_type": "code",
   "execution_count": 57,
   "metadata": {},
   "outputs": [
    {
     "name": "stdout",
     "output_type": "stream",
     "text": [
      "1 2 3\n"
     ]
    }
   ],
   "source": [
    "list = [1, 2, 3]\n",
    "my_func(*list)"
   ]
  },
  {
   "cell_type": "code",
   "execution_count": 60,
   "metadata": {},
   "outputs": [
    {
     "name": "stdout",
     "output_type": "stream",
     "text": [
      "1 2 4\n"
     ]
    }
   ],
   "source": [
    "dictionary = {\"start_date\": 2, \"finish_date\": 4, \"job_title\": 1}\n",
    "my_func(**dictionary)"
   ]
  },
  {
   "cell_type": "code",
   "execution_count": 61,
   "metadata": {},
   "outputs": [],
   "source": [
    "def title_decorator(func):\n",
    "    def wrapper(*args):\n",
    "        func(\"test\", *args)\n",
    "    return wrapper\n"
   ]
  },
  {
   "cell_type": "code",
   "execution_count": 63,
   "metadata": {},
   "outputs": [
    {
     "name": "stdout",
     "output_type": "stream",
     "text": [
      "test 2 3\n"
     ]
    }
   ],
   "source": [
    "my_func(2, 3)"
   ]
  },
  {
   "cell_type": "markdown",
   "metadata": {},
   "source": [
    "## Simple typed function"
   ]
  },
  {
   "cell_type": "markdown",
   "metadata": {},
   "source": [
    "Create a function which takes in a list of words and returns the total number of characters in the list, then type the function's inputs and outputs."
   ]
  },
  {
   "cell_type": "code",
   "execution_count": 81,
   "metadata": {},
   "outputs": [
    {
     "name": "stdout",
     "output_type": "stream",
     "text": [
      "7\n"
     ]
    }
   ],
   "source": [
    "def my_func2(list):\n",
    "    return sum(len(x) for x in list)\n",
    "\n",
    "print(my_func2([\"ab\", \"bcd\", \"c\", \"d\"]))"
   ]
  },
  {
   "cell_type": "markdown",
   "metadata": {},
   "source": [
    "## Binary generator comprehension"
   ]
  },
  {
   "cell_type": "markdown",
   "metadata": {},
   "source": [
    "Create an infinite generator COMPREHENSION that infinitely generates ones or zeros randomly"
   ]
  },
  {
   "cell_type": "code",
   "execution_count": 107,
   "metadata": {},
   "outputs": [],
   "source": [
    "import random\n",
    "\n",
    "def def_gen3():\n",
    "    while True:\n",
    "        n = random.choice((0, 1))\n",
    "        yield n\n",
    "    \n",
    "gen3 = def_gen3()"
   ]
  },
  {
   "cell_type": "code",
   "execution_count": 108,
   "metadata": {},
   "outputs": [
    {
     "name": "stdout",
     "output_type": "stream",
     "text": [
      "0\n"
     ]
    }
   ],
   "source": [
    "print(next(gen3))"
   ]
  },
  {
   "cell_type": "markdown",
   "metadata": {},
   "source": [
    "## Yes/No\n",
    "\n",
    "Using 2 yield statements, create a generator which alternatively yields 'yes' and 'no'."
   ]
  },
  {
   "cell_type": "code",
   "execution_count": 109,
   "metadata": {},
   "outputs": [],
   "source": [
    "def yesnogen():\n",
    "    while True:\n",
    "        yield \"yes\"\n",
    "        yield \"no\"\n",
    "\n",
    "gen4 = yesnogen()"
   ]
  },
  {
   "cell_type": "code",
   "execution_count": 115,
   "metadata": {},
   "outputs": [
    {
     "data": {
      "text/plain": [
       "'no'"
      ]
     },
     "execution_count": 115,
     "metadata": {},
     "output_type": "execute_result"
    }
   ],
   "source": [
    "next(gen4)"
   ]
  },
  {
   "cell_type": "markdown",
   "metadata": {},
   "source": [
    "## Generators\n",
    "\n",
    "1. Create generator and iterate through it to infinitely cycle through a list of items in order\n",
    "    - Cast it to a list to print it\n",
    "1. Create a generator that generates random numbers\n",
    "1. Create a generator that takes in two numbers and generates all multiples of 3 between the two of them\n",
    "1. Create a generator that generates the square of every number up to 100, if that number is even or is a multiple of 3\n",
    "    - Turn the above generator into a generator comprehension\n",
    "1. Create a generator that generates generators which each generate ranges up to a random number passed to them as an argument :o\n",
    "1. Create a double nested for loop\n",
    "    - The outer loop should iterate through the outer generator\n",
    "    - The inner loop should iterate through the range generated by the inner generator\n"
   ]
  },
  {
   "cell_type": "code",
   "execution_count": 126,
   "metadata": {},
   "outputs": [],
   "source": [
    "def agen5(list):\n",
    "    while True:\n",
    "        for _ in list:\n",
    "            yield _\n",
    "\n",
    "gen5 = agen5([1,2,5,6,3,2])"
   ]
  },
  {
   "cell_type": "code",
   "execution_count": 134,
   "metadata": {},
   "outputs": [
    {
     "data": {
      "text/plain": [
       "2"
      ]
     },
     "execution_count": 134,
     "metadata": {},
     "output_type": "execute_result"
    }
   ],
   "source": [
    "next(gen5)"
   ]
  },
  {
   "cell_type": "code",
   "execution_count": 138,
   "metadata": {},
   "outputs": [],
   "source": [
    "def agen6():\n",
    "    while True:\n",
    "        yield random.randint(0, 999)\n",
    "\n",
    "gen6 = agen6()"
   ]
  },
  {
   "cell_type": "code",
   "execution_count": 146,
   "metadata": {},
   "outputs": [
    {
     "data": {
      "text/plain": [
       "851"
      ]
     },
     "execution_count": 146,
     "metadata": {},
     "output_type": "execute_result"
    }
   ],
   "source": [
    "next(gen6)"
   ]
  },
  {
   "cell_type": "code",
   "execution_count": 155,
   "metadata": {},
   "outputs": [],
   "source": [
    "def agen7(a, b):\n",
    "    n = a\n",
    "    while b > n:\n",
    "        if n % 3 == 0:\n",
    "            yield n\n",
    "        n += 1\n",
    "    yield \"end\"\n",
    "\n",
    "gen7 = agen7(1, 9)"
   ]
  },
  {
   "cell_type": "code",
   "execution_count": 158,
   "metadata": {},
   "outputs": [
    {
     "data": {
      "text/plain": [
       "'end'"
      ]
     },
     "execution_count": 158,
     "metadata": {},
     "output_type": "execute_result"
    }
   ],
   "source": [
    "next(gen7)"
   ]
  },
  {
   "cell_type": "code",
   "execution_count": 160,
   "metadata": {},
   "outputs": [],
   "source": [
    "def agen8():\n",
    "    for x in range(1, 101):\n",
    "        if x % 2 == 0 or x % 3 == 0:\n",
    "            yield x**2\n",
    "\n",
    "gen8 = agen8()"
   ]
  },
  {
   "cell_type": "code",
   "execution_count": 172,
   "metadata": {},
   "outputs": [
    {
     "data": {
      "text/plain": [
       "324"
      ]
     },
     "execution_count": 172,
     "metadata": {},
     "output_type": "execute_result"
    }
   ],
   "source": [
    "next(gen8)"
   ]
  },
  {
   "cell_type": "code",
   "execution_count": 1,
   "metadata": {},
   "outputs": [],
   "source": [
    "gen8_comp = (x**2 for x in range(1,101) if x % 2 == 0 or x % 3 == 0)"
   ]
  },
  {
   "cell_type": "code",
   "execution_count": 2,
   "metadata": {},
   "outputs": [
    {
     "data": {
      "text/plain": [
       "4"
      ]
     },
     "execution_count": 2,
     "metadata": {},
     "output_type": "execute_result"
    }
   ],
   "source": [
    "next(gen8_comp)"
   ]
  },
  {
   "cell_type": "code",
   "execution_count": 195,
   "metadata": {},
   "outputs": [],
   "source": [
    "def agen9():\n",
    "    while True:\n",
    "        n = random.randint(1, 6)\n",
    "        for x in range(1, n + 1):\n",
    "            yield x\n",
    "\n",
    "gen9 = agen9()"
   ]
  },
  {
   "cell_type": "code",
   "execution_count": 210,
   "metadata": {},
   "outputs": [
    {
     "data": {
      "text/plain": [
       "0"
      ]
     },
     "execution_count": 210,
     "metadata": {},
     "output_type": "execute_result"
    }
   ],
   "source": [
    "next(gen9)"
   ]
  },
  {
   "cell_type": "markdown",
   "metadata": {},
   "source": [
    "## Decorator to save function output with context"
   ]
  },
  {
   "cell_type": "markdown",
   "metadata": {},
   "source": [
    "Create a decorator which saves the string output from a simple function to a file, and uses a context manager whilst doing so"
   ]
  }
 ],
 "metadata": {
  "kernelspec": {
   "display_name": "Python 3.9.5 64-bit",
   "language": "python",
   "name": "python3"
  },
  "language_info": {
   "codemirror_mode": {
    "name": "ipython",
    "version": 3
   },
   "file_extension": ".py",
   "mimetype": "text/x-python",
   "name": "python",
   "nbconvert_exporter": "python",
   "pygments_lexer": "ipython3",
   "version": "3.9.5"
  },
  "orig_nbformat": 4,
  "vscode": {
   "interpreter": {
    "hash": "81794d4967e6c3204c66dcd87b604927b115b27c00565d3d43f05ba2f3a2cb0d"
   }
  }
 },
 "nbformat": 4,
 "nbformat_minor": 2
}
