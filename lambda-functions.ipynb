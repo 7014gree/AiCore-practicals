{
 "cells": [
  {
   "cell_type": "markdown",
   "metadata": {},
   "source": [
    "## Simple Lambda Functions\n",
    "\n",
    "Create a lambda function for each of the following bullet points:\n",
    "- A lambda function that takes in a number and returns that number squared\n",
    "- A lambda function that takes in a number and returns that number cubed\n",
    "- A lambda function that takes two numbers and returns the sum of those numbers\n",
    "- A lambda function that takes two numbers and returns the product of those numbers"
   ]
  },
  {
   "cell_type": "code",
   "execution_count": null,
   "metadata": {},
   "outputs": [],
   "source": [
    "lambda1 = lambda x: x**2\n",
    "lambda2 = lambda x: x**3\n",
    "lambda3 = lambda x, y: x + y\n",
    "lambda4 = lambda x, y: x * y\n",
    "\n",
    "a, b = 2, 3\n",
    "print(lambda1(a), lambda2(b), lambda3(a, b), lambda4(a, b))"
   ]
  },
  {
   "cell_type": "markdown",
   "metadata": {},
   "source": [
    "## Sorting with Lambda Functions\n",
    "\n",
    "Create a list with 5 tuples, where each tuple contains a name and a number. Then, using the sort function, create a lambda function for each of the following bullet points:\n",
    "- Sort the list by the number in each tuple\n",
    "- Sort the list by the name in each tuple\n",
    "- Sort the list by the length of the name in each tuple\n",
    "- Sort the list by the length of the name in each tuple, but in reverse order"
   ]
  },
  {
   "cell_type": "code",
   "execution_count": null,
   "metadata": {},
   "outputs": [],
   "source": [
    "list_of_tuples = [('za', 1), ('rrrr', 7), ('c', 4), ('eff', 3), ('s', 5)]\n",
    "\n",
    "print(sorted(list_of_tuples, key = lambda x: x[1]))\n",
    "print(sorted(list_of_tuples, key = lambda x: x[0]))\n",
    "print(sorted(list_of_tuples, key = lambda x: len(x[0])))\n",
    "print(sorted(list_of_tuples, key = lambda x: -1 * len(x[0])))\n",
    "print(sorted(list_of_tuples, key = lambda x: len(x[0]), reverse=True))"
   ]
  },
  {
   "cell_type": "markdown",
   "metadata": {},
   "source": [
    "## Lambda Functions with Map\n",
    "\n",
    "Create a list of 5 numbers\n",
    "- Create a lambda function that squares a number. Then use map to square each number in the list\n",
    "- Create a lambda function that cubes a number. Then use map to cube each number in the list\n",
    "- Create a lambda function that takes in a number and returns that number squared if it is even, and cubed if it is odd. Then use map to apply the function to each number in the list"
   ]
  },
  {
   "cell_type": "code",
   "execution_count": null,
   "metadata": {},
   "outputs": [],
   "source": [
    "nums = [6, 3, 18, 94, 12]\n",
    "\n",
    "lambda5 = lambda x: x**2\n",
    "map1 = map(lambda5, nums)\n",
    "\n",
    "def map_print(m: map):\n",
    "    for _ in m:\n",
    "        print(_)\n",
    "\n",
    "map_print(map1)\n",
    "\n",
    "lambda6 = lambda x: x**3\n",
    "map2 = map(lambda6, nums)\n",
    "map_print(map2)\n",
    "\n",
    "lambda7 = lambda x: x ** 2 if x % 2 == 0 else x ** 3\n",
    "map3 = map(lambda7, nums)\n",
    "map_print(map3)"
   ]
  },
  {
   "cell_type": "markdown",
   "metadata": {},
   "source": [
    "## Lambda Functions with Filter\n",
    "\n",
    "Create a list of 10 strings\n",
    "- Create a lambda function that takes in a string and returns True if the string is longer than 5 characters, and False if it is not. Then use filter and the lambda function to filter out all strings that are longer than 5 characters\n",
    "- Create a lambda function that takes in a string and returns True if the string is longer than 5 characters and starts with a vowel, and False if it is not. Then use filter and the lambda function to filter out all strings that are longer than 5 characters and start with a vowel"
   ]
  },
  {
   "cell_type": "code",
   "execution_count": null,
   "metadata": {},
   "outputs": [],
   "source": [
    "strs = ['abammm', 'cdc', 'eeeeett', 'ffyxyy', 'zzzzzzw', 'plw', 'opwq', 'aqpw', 'jkmn', 'cvbn']\n",
    "\n",
    "lambda8 = lambda x: len(x) > 5\n",
    "print(list(filter(lambda8, strs)))\n",
    "\n",
    "lambda9 = lambda x: len(x) > 5 and x[0] in ['a', 'e', 'i', 'o', 'u']\n",
    "print(list(filter(lambda9, strs)))"
   ]
  }
 ],
 "metadata": {
  "kernelspec": {
   "display_name": "Python 3.9.5 64-bit",
   "language": "python",
   "name": "python3"
  },
  "language_info": {
   "codemirror_mode": {
    "name": "ipython",
    "version": 3
   },
   "file_extension": ".py",
   "mimetype": "text/x-python",
   "name": "python",
   "nbconvert_exporter": "python",
   "pygments_lexer": "ipython3",
   "version": "3.9.5"
  },
  "orig_nbformat": 4,
  "vscode": {
   "interpreter": {
    "hash": "81794d4967e6c3204c66dcd87b604927b115b27c00565d3d43f05ba2f3a2cb0d"
   }
  }
 },
 "nbformat": 4,
 "nbformat_minor": 2
}
